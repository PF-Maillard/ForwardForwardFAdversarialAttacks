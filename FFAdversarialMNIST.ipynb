{
 "cells": [
  {
   "cell_type": "code",
   "execution_count": 1,
   "metadata": {},
   "outputs": [
    {
     "name": "stdout",
     "output_type": "stream",
     "text": [
      "True\n"
     ]
    }
   ],
   "source": [
    "import torch\n",
    "import torch.nn as nn\n",
    "from torch.optim import Adam\n",
    "from torch.utils.data import DataLoader\n",
    "\n",
    "from torchattacks import PGD, DeepFool\n",
    "import torch.optim as optim\n",
    "from torch.utils.data import DataLoader\n",
    "\n",
    "import Utils\n",
    "import Models\n",
    "\n",
    "print(torch.cuda.is_available())"
   ]
  },
  {
   "cell_type": "code",
   "execution_count": 2,
   "metadata": {},
   "outputs": [],
   "source": [
    "def AdversarialAttack(Mynet, X, y, target, Iterations, learningRate, c):\n",
    "    ListSavedX = []\n",
    "    for Index in range(len(X)):\n",
    "        #x = X[Index].unsqueeze(0).clone()\n",
    "        x = torch.zeros_like(X[Index].unsqueeze(0))\n",
    "        x = x.requires_grad_(True)\n",
    "        MyOptimizer = Adam([x], lr=learningRate)\n",
    "        \n",
    "        SavedX = x\n",
    "        PastLoss = 1000 \n",
    "        for i in range(Iterations):\n",
    "            goodness_per_label = []\n",
    "            for label in range(10):\n",
    "                z = Utils.overlay_y_on_x(x, label)\n",
    "                goodness = []\n",
    "                z = Mynet.Layer1(z)\n",
    "                goodness += [z.pow(2).mean(1)]\n",
    "                z = Mynet.Layer2(z)\n",
    "                goodness += [z.pow(2).mean(1)]\n",
    "                goodness_per_label += [sum(goodness).unsqueeze(1)]\n",
    "            goodness_per_label = torch.cat(goodness_per_label, 1)\n",
    "\n",
    "            _, Indexs = torch.topk(goodness_per_label[0], k=2)\n",
    "            Pred = goodness_per_label[0]\n",
    "            \n",
    "            if target != -1:\n",
    "                Current = Indexs[0]\n",
    "                if Current == target:\n",
    "                    Current = Indexs[1]       \n",
    "                PredLoss = torch.max(Pred[y[Current]] - Pred[target], torch.tensor(-0.001))\n",
    "            else:\n",
    "                Current = Indexs[0]\n",
    "                if Current == y[Index]:\n",
    "                    Current = Indexs[1]       \n",
    "                PredLoss = torch.max(Pred[y[Index]] - Pred[Current], torch.tensor(-0.001))\n",
    "\n",
    "            Loss = PredLoss*c + Utils.L2Distance(x, X[Index])\n",
    "            #print(i, Loss, PredLoss, Utils.L2Distance(x, X[Index]))\n",
    "            \n",
    "            if Loss < PastLoss and PredLoss < 0:\n",
    "                SavedX = x.clone()\n",
    "            \n",
    "            MyOptimizer.zero_grad()\n",
    "            Loss.backward()\n",
    "            MyOptimizer.step()\n",
    "            \n",
    "            with torch.no_grad():\n",
    "               x.clamp_(0,1)\n",
    "            \n",
    "        ListSavedX.append(SavedX.detach()[0])\n",
    "    return torch.stack(ListSavedX)\n",
    "\n",
    "def IterativeNewAttack(Mynet, X, y, target, Iterations, learningRate):\n",
    "    c = 1000\n",
    "    AdversarialImages = AdversarialAttack(Mynet, X, y, target, 0, learningRate, c)\n",
    "    SavedVectors = torch.zeros_like(AdversarialImages)\n",
    "    \n",
    "    while c > 0.1:\n",
    "        print(\"NET Adversarial with c = \", c)\n",
    "        AdversarialImages = AdversarialAttack(Mynet, X, y, target, Iterations, learningRate, c)\n",
    "        AdversarialImages = torch.clamp(AdversarialImages, 0, 1)\n",
    "        AdversarialLabels = Mynet.predict(AdversarialImages)\n",
    "        for i in range(len(AdversarialLabels)):\n",
    "            if y[i].cpu() != AdversarialLabels[i].cpu() and Utils.L2Distance(SavedVectors[i], X[i]) > Utils.L2Distance(AdversarialImages[i], X[i]):\n",
    "                SavedVectors[i] = AdversarialImages[i]     \n",
    "        c/=2\n",
    "    return SavedVectors"
   ]
  },
  {
   "cell_type": "code",
   "execution_count": 3,
   "metadata": {},
   "outputs": [],
   "source": [
    "torch.manual_seed(1234)\n",
    "device = torch.device(\"cuda\" if torch.cuda.is_available() else \"cpu\")\n",
    "\n",
    "train_loader, test_loader = Utils.MNIST_loaders(test_batch_size=1000)\n",
    "TestX, TestY = next(iter(test_loader))\n",
    "TestX, TestY = TestX.cuda(), TestY.cuda()"
   ]
  },
  {
   "cell_type": "code",
   "execution_count": 4,
   "metadata": {},
   "outputs": [
    {
     "name": "stdout",
     "output_type": "stream",
     "text": [
      "Epoch  0\n",
      "Epoch  1\n",
      "Epoch  2\n",
      "Epoch  3\n",
      "Epoch  4\n",
      "Accuracy NET: 96.28%\n"
     ]
    },
    {
     "data": {
      "text/plain": [
       "0.9628"
      ]
     },
     "execution_count": 4,
     "metadata": {},
     "output_type": "execute_result"
    }
   ],
   "source": [
    "MyFFModel = Models.Net_MNIST()\n",
    "Epochs = 5\n",
    "\n",
    "Utils.FFTrain(MyFFModel, train_loader, Epochs)\n",
    "Utils.FFEvaluate(MyFFModel, test_loader, device)"
   ]
  },
  {
   "cell_type": "code",
   "execution_count": 5,
   "metadata": {},
   "outputs": [
    {
     "name": "stdout",
     "output_type": "stream",
     "text": [
      "Epoch 1, Loss: 2.299586772918701\n",
      "Epoch 2, Loss: 2.218668222427368\n",
      "Epoch 3, Loss: 2.123408794403076\n",
      "Epoch 4, Loss: 1.995563268661499\n",
      "Epoch 5, Loss: 1.8359086513519287\n",
      "Epoch 6, Loss: 1.6538835763931274\n",
      "Epoch 7, Loss: 1.4595372676849365\n",
      "Epoch 8, Loss: 1.2631869316101074\n",
      "Epoch 9, Loss: 1.0786679983139038\n",
      "Epoch 10, Loss: 0.9179567098617554\n",
      "Epoch 11, Loss: 0.7852858901023865\n",
      "Epoch 12, Loss: 0.6827225685119629\n",
      "Epoch 13, Loss: 0.604951024055481\n",
      "Epoch 14, Loss: 0.5479907989501953\n",
      "Epoch 15, Loss: 0.5048149228096008\n",
      "Epoch 16, Loss: 0.47189876437187195\n",
      "Epoch 17, Loss: 0.4467596113681793\n",
      "Epoch 18, Loss: 0.42621225118637085\n",
      "Epoch 19, Loss: 0.40978002548217773\n",
      "Epoch 20, Loss: 0.3964381515979767\n",
      "Epoch 21, Loss: 0.38457953929901123\n",
      "Epoch 22, Loss: 0.37440139055252075\n",
      "Epoch 23, Loss: 0.3652113974094391\n",
      "Epoch 24, Loss: 0.35650959610939026\n",
      "Epoch 25, Loss: 0.34852099418640137\n",
      "Epoch 26, Loss: 0.3410170376300812\n",
      "Epoch 27, Loss: 0.33372762799263\n",
      "Epoch 28, Loss: 0.32696428894996643\n",
      "Epoch 29, Loss: 0.3204578459262848\n",
      "Epoch 30, Loss: 0.31416839361190796\n",
      "Epoch 31, Loss: 0.30815717577934265\n",
      "Epoch 32, Loss: 0.3022843897342682\n",
      "Epoch 33, Loss: 0.2964589595794678\n",
      "Epoch 34, Loss: 0.29078245162963867\n",
      "Epoch 35, Loss: 0.28532445430755615\n",
      "Epoch 36, Loss: 0.27997076511383057\n",
      "Epoch 37, Loss: 0.27482619881629944\n",
      "Epoch 38, Loss: 0.2701290249824524\n",
      "Epoch 39, Loss: 0.2660740613937378\n",
      "Epoch 40, Loss: 0.2629808783531189\n",
      "Epoch 41, Loss: 0.25939157605171204\n",
      "Epoch 42, Loss: 0.25309672951698303\n",
      "Epoch 43, Loss: 0.24829308688640594\n",
      "Epoch 44, Loss: 0.2461036741733551\n",
      "Epoch 45, Loss: 0.2413518726825714\n",
      "Epoch 46, Loss: 0.23700639605522156\n",
      "Epoch 47, Loss: 0.23459173738956451\n",
      "Epoch 48, Loss: 0.23018096387386322\n",
      "Epoch 49, Loss: 0.22656692564487457\n",
      "Epoch 50, Loss: 0.22365877032279968\n",
      "Epoch 51, Loss: 0.21979352831840515\n",
      "Epoch 52, Loss: 0.21672706305980682\n",
      "Epoch 53, Loss: 0.21335427463054657\n",
      "Epoch 54, Loss: 0.21030713617801666\n",
      "Epoch 55, Loss: 0.20710539817810059\n",
      "Epoch 56, Loss: 0.2040458768606186\n",
      "Epoch 57, Loss: 0.20118215680122375\n",
      "Epoch 58, Loss: 0.19799832999706268\n",
      "Epoch 59, Loss: 0.19544923305511475\n",
      "Epoch 60, Loss: 0.19243556261062622\n",
      "Epoch 61, Loss: 0.1897200495004654\n",
      "Epoch 62, Loss: 0.1870153248310089\n",
      "Epoch 63, Loss: 0.1842065453529358\n",
      "Epoch 64, Loss: 0.181605726480484\n",
      "Epoch 65, Loss: 0.17892521619796753\n",
      "Epoch 66, Loss: 0.17628750205039978\n",
      "Epoch 67, Loss: 0.1737561672925949\n",
      "Epoch 68, Loss: 0.17122969031333923\n",
      "Epoch 69, Loss: 0.168706014752388\n",
      "Epoch 70, Loss: 0.16632287204265594\n",
      "Epoch 71, Loss: 0.16385123133659363\n",
      "Epoch 72, Loss: 0.1615445762872696\n",
      "Epoch 73, Loss: 0.15918734669685364\n",
      "Epoch 74, Loss: 0.1569071114063263\n",
      "Epoch 75, Loss: 0.1546444296836853\n",
      "Epoch 76, Loss: 0.15242575109004974\n",
      "Epoch 77, Loss: 0.15022774040699005\n",
      "Epoch 78, Loss: 0.14806871116161346\n",
      "Epoch 79, Loss: 0.14594772458076477\n",
      "Epoch 80, Loss: 0.14382407069206238\n",
      "Accuracy: 95.50999999999999%\n"
     ]
    },
    {
     "data": {
      "text/plain": [
       "0.9551"
      ]
     },
     "execution_count": 5,
     "metadata": {},
     "output_type": "execute_result"
    }
   ],
   "source": [
    "MLPModel = Models.MLP_MNIST().to(device)\n",
    "Epochs = 80\n",
    "criterion = nn.CrossEntropyLoss()\n",
    "optimizer = optim.Adam(MLPModel.parameters(), lr=0.001)\n",
    "\n",
    "Utils.Train(MLPModel, train_loader, device, criterion, optimizer, Epochs)\n",
    "Utils.Evaluate(MLPModel, test_loader, device)"
   ]
  },
  {
   "cell_type": "code",
   "execution_count": 6,
   "metadata": {},
   "outputs": [
    {
     "name": "stdout",
     "output_type": "stream",
     "text": [
      "Epoch 1, Loss: 2.3057312965393066\n",
      "Epoch 2, Loss: 2.2919504642486572\n",
      "Epoch 3, Loss: 2.213318347930908\n",
      "Epoch 4, Loss: 2.0964293479919434\n",
      "Epoch 5, Loss: 1.911297082901001\n",
      "Epoch 6, Loss: 1.686811923980713\n",
      "Epoch 7, Loss: 1.3928656578063965\n",
      "Epoch 8, Loss: 1.1166304349899292\n",
      "Epoch 9, Loss: 0.9137240052223206\n",
      "Epoch 10, Loss: 0.7623291611671448\n",
      "Epoch 11, Loss: 0.7152153849601746\n",
      "Epoch 12, Loss: 0.7631487846374512\n",
      "Epoch 13, Loss: 0.6541923880577087\n",
      "Epoch 14, Loss: 0.6647218465805054\n",
      "Epoch 15, Loss: 0.5794686675071716\n",
      "Epoch 16, Loss: 0.5234202146530151\n",
      "Epoch 17, Loss: 0.544903576374054\n",
      "Epoch 18, Loss: 0.4791417717933655\n",
      "Epoch 19, Loss: 0.44480186700820923\n",
      "Epoch 20, Loss: 0.43545427918434143\n",
      "Epoch 21, Loss: 0.40840643644332886\n",
      "Epoch 22, Loss: 0.3802521228790283\n",
      "Epoch 23, Loss: 0.3665936291217804\n",
      "Epoch 24, Loss: 0.35650312900543213\n",
      "Epoch 25, Loss: 0.33702054619789124\n",
      "Epoch 26, Loss: 0.32138127088546753\n",
      "Epoch 27, Loss: 0.314838707447052\n",
      "Epoch 28, Loss: 0.30698728561401367\n",
      "Epoch 29, Loss: 0.2928089201450348\n",
      "Epoch 30, Loss: 0.2793864607810974\n",
      "Accuracy: 92.67999999999999%\n"
     ]
    },
    {
     "data": {
      "text/plain": [
       "0.9268"
      ]
     },
     "execution_count": 6,
     "metadata": {},
     "output_type": "execute_result"
    }
   ],
   "source": [
    "MyCNNModel = Models.MyCNN_MNIST().to(device)\n",
    "criterion2 = nn.CrossEntropyLoss()\n",
    "optimizer2 = optim.Adam(MyCNNModel.parameters(), lr=0.01)\n",
    "Epochs = 30\n",
    "\n",
    "Utils.Train(MyCNNModel, train_loader, device, criterion2, optimizer2, Epochs)\n",
    "Utils.Evaluate(MyCNNModel, test_loader, device)"
   ]
  },
  {
   "cell_type": "code",
   "execution_count": 7,
   "metadata": {},
   "outputs": [
    {
     "name": "stdout",
     "output_type": "stream",
     "text": [
      "NET Adversarial with c =  1000\n"
     ]
    }
   ],
   "source": [
    "LoaderTest = DataLoader(list(zip(TestX, TestY)), batch_size=64, shuffle=False)\n",
    "X_advFF = IterativeNewAttack(MyFFModel, TestX, TestY,  -1, 1000, 0.01)  \n",
    "\n",
    "attacks = {\n",
    "    'PGD': PGD(MLPModel, eps=0.1, alpha=0.02),\n",
    "    'DeepFool': DeepFool(MLPModel, steps=100, overshoot=0.02)\n",
    "}\n",
    "\n",
    "X_advDeep, _ = Utils.generate_adversarial_examples(MLPModel, LoaderTest, attacks['DeepFool'])\n",
    "X_advDeep = torch.clamp(X_advDeep, 0, 1)\n",
    "\n",
    "X_advPGD, _ = Utils.generate_adversarial_examples(MLPModel, LoaderTest, attacks['PGD'])\n",
    "X_advPGD = torch.clamp(X_advPGD, 0, 1)\n",
    "\n",
    "X_advCW = Utils.IterativeCW(MLPModel, TestX, TestY,  -1, 1000, 0.01)\n",
    "\n",
    "Utils.DisplayResult(MLPModel, MyFFModel, MyCNNModel, device, TestX, TestY, X_advFF, X_advPGD, X_advCW, X_advDeep)\n",
    "Utils.WriteResults(\"ResultsFFAdversrials_MNIST\", MLPModel, MyFFModel, MyCNNModel, device, TestX, TestY, X_advFF, X_advPGD, X_advCW, X_advDeep)"
   ]
  }
 ],
 "metadata": {
  "kernelspec": {
   "display_name": "Python 3 (ipykernel)",
   "language": "python",
   "name": "python3"
  }
 },
 "nbformat": 4,
 "nbformat_minor": 2
}
